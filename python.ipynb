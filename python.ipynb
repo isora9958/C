{
  "nbformat": 4,
  "nbformat_minor": 0,
  "metadata": {
    "colab": {
      "name": "python.ipynb",
      "version": "0.3.2",
      "provenance": [],
      "include_colab_link": true
    },
    "kernelspec": {
      "name": "python2",
      "display_name": "Python 2"
    }
  },
  "cells": [
    {
      "cell_type": "markdown",
      "metadata": {
        "id": "view-in-github",
        "colab_type": "text"
      },
      "source": [
        "<a href=\"https://colab.research.google.com/github/isora9958/C/blob/master/python.ipynb\" target=\"_parent\"><img src=\"https://colab.research.google.com/assets/colab-badge.svg\" alt=\"Open In Colab\"/></a>"
      ]
    },
    {
      "metadata": {
        "id": "GctwA5jt0spw",
        "colab_type": "code",
        "colab": {
          "base_uri": "https://localhost:8080/",
          "height": 68
        },
        "outputId": "a24565da-0f33-4932-e964-a03774e6f69d"
      },
      "cell_type": "code",
      "source": [
        "#!/usr/bin/python\n",
        "# -*- coding: UTF-8 -*-\n",
        " \n",
        "i = int(raw_input('净利润:'))\n",
        "arr = [1000000,600000,400000,200000,100000,0]\n",
        "rat = [0.01,0.015,0.03,0.05,0.075,0.1]\n",
        "r = 0\n",
        "for idx in range(0,6):\n",
        "    if i>arr[idx]:\n",
        "        r+=(i-arr[idx])*rat[idx]\n",
        "        print (i-arr[idx])*rat[idx]\n",
        "        i=arr[idx]\n",
        "print r"
      ],
      "execution_count": 2,
      "outputs": [
        {
          "output_type": "stream",
          "text": [
            "净利润:1000\n",
            "100.0\n",
            "100.0\n"
          ],
          "name": "stdout"
        }
      ]
    },
    {
      "metadata": {
        "id": "XPsR51n256ce",
        "colab_type": "text"
      },
      "cell_type": "markdown",
      "source": [
        ""
      ]
    },
    {
      "metadata": {
        "id": "g_4HzduY0szW",
        "colab_type": "code",
        "colab": {
          "base_uri": "https://localhost:8080/",
          "height": 136
        },
        "outputId": "3136aaef-a7a5-482e-9b98-2f9dff7707ef"
      },
      "cell_type": "code",
      "source": [
        "#!/usr/bin/python\n",
        "# -*- coding: UTF-8 -*-\n",
        " \n",
        "year = int(raw_input('year:\\n'))\n",
        "month = int(raw_input('month:\\n'))\n",
        "day = int(raw_input('day:\\n'))\n",
        " \n",
        "months = (0,31,59,90,120,151,181,212,243,273,304,334)\n",
        "if 0 < month <= 12:\n",
        "    sum = months[month - 1]\n",
        "else:\n",
        "    print 'data error'\n",
        "sum += day\n",
        "leap = 0\n",
        "if (year % 400 == 0) or ((year % 4 == 0) and (year % 100 != 0)):\n",
        "    leap = 1\n",
        "if (leap == 1) and (month > 2):\n",
        "    sum += 1\n",
        "print 'it is the %dth day.' % sum"
      ],
      "execution_count": 4,
      "outputs": [
        {
          "output_type": "stream",
          "text": [
            "year:\n",
            "2018\n",
            "month:\n",
            "5\n",
            "day:\n",
            "3\n",
            "it is the 123th day.\n"
          ],
          "name": "stdout"
        }
      ]
    },
    {
      "metadata": {
        "id": "9IBY7E_65ge2",
        "colab_type": "code",
        "colab": {
          "base_uri": "https://localhost:8080/",
          "height": 34
        },
        "outputId": "e5eb925f-8325-4f92-a665-2c950f909810"
      },
      "cell_type": "code",
      "source": [
        "import time\n",
        "currentTime = time.time() # Get current time\n",
        "# Obtain the total seconds since midnight, Jan 1, 1970\n",
        "totalSeconds = int(currentTime)\n",
        "# Get the current second\n",
        "currentSecond = totalSeconds % 60\n",
        "# Obtain the total minutes\n",
        "totalMinutes = totalSeconds // 60\n",
        "# Compute the current minute in the hour\n",
        "currentMinute = totalMinutes % 60\n",
        "# Obtain the total hours\n",
        "totalHours = totalMinutes // 60\n",
        "# Compute the current hour\n",
        "currentHour = totalHours % 24\n",
        "# Display results\n",
        "print(\"Current time is\",currentHour, \":\",currentMinute, \":\", currentSecond, \"GMT\")"
      ],
      "execution_count": 14,
      "outputs": [
        {
          "output_type": "stream",
          "text": [
            "('Current time is', 6, ':', 14, ':', 35, 'GMT')\n"
          ],
          "name": "stdout"
        }
      ]
    }
  ]
}