{
  "nbformat": 4,
  "nbformat_minor": 0,
  "metadata": {
    "colab": {
      "name": "201903142p",
      "version": "0.3.2",
      "provenance": [],
      "include_colab_link": true
    },
    "kernelspec": {
      "name": "python3",
      "display_name": "Python 3"
    }
  },
  "cells": [
    {
      "cell_type": "markdown",
      "metadata": {
        "id": "view-in-github",
        "colab_type": "text"
      },
      "source": [
        "<a href=\"https://colab.research.google.com/github/isora9958/C/blob/master/201903142p.ipynb\" target=\"_parent\"><img src=\"https://colab.research.google.com/assets/colab-badge.svg\" alt=\"Open In Colab\"/></a>"
      ]
    },
    {
      "metadata": {
        "id": "9_R6lHO_6ylh",
        "colab_type": "code",
        "colab": {}
      },
      "cell_type": "code",
      "source": [
        "number = 0xA0F # 十六进制"
      ],
      "execution_count": 0,
      "outputs": []
    },
    {
      "metadata": {
        "id": "Ar7Cs8bn7CsJ",
        "colab_type": "code",
        "colab": {
          "base_uri": "https://localhost:8080/",
          "height": 34
        },
        "outputId": "79ce40cc-206f-4eb2-ba96-9ae0720f9b8d"
      },
      "cell_type": "code",
      "source": [
        ">>> number=0o37 # 八进制\n",
        ">>> number\n",
        "31"
      ],
      "execution_count": 6,
      "outputs": [
        {
          "output_type": "execute_result",
          "data": {
            "text/plain": [
              "31"
            ]
          },
          "metadata": {
            "tags": []
          },
          "execution_count": 6
        }
      ]
    },
    {
      "metadata": {
        "id": "hsE91FvY7DoJ",
        "colab_type": "code",
        "colab": {
          "base_uri": "https://localhost:8080/",
          "height": 34
        },
        "outputId": "0c472cab-e264-45bd-af7e-9bc09f1cf905"
      },
      "cell_type": "code",
      "source": [
        ">>> number = 0xA0F # 十六进制\n",
        ">>> number\n",
        "2575"
      ],
      "execution_count": 8,
      "outputs": [
        {
          "output_type": "execute_result",
          "data": {
            "text/plain": [
              "2575"
            ]
          },
          "metadata": {
            "tags": []
          },
          "execution_count": 8
        }
      ]
    },
    {
      "metadata": {
        "id": "bS-h4rmY8PTK",
        "colab_type": "code",
        "colab": {
          "base_uri": "https://localhost:8080/",
          "height": 34
        },
        "outputId": "1b2164af-b02e-499e-8d9b-741d69fab7b5"
      },
      "cell_type": "code",
      "source": [
        "a = 1.5344\n",
        "int(a)\n",
        "float(a)\n",
        "complex(a)"
      ],
      "execution_count": 9,
      "outputs": [
        {
          "output_type": "execute_result",
          "data": {
            "text/plain": [
              "(1.5344+0j)"
            ]
          },
          "metadata": {
            "tags": []
          },
          "execution_count": 9
        }
      ]
    },
    {
      "metadata": {
        "id": "rbkW7t7u8Qei",
        "colab_type": "code",
        "colab": {
          "base_uri": "https://localhost:8080/",
          "height": 34
        },
        "outputId": "42236e63-8bdd-421c-bfc3-a030b0d640c0"
      },
      "cell_type": "code",
      "source": [
        "17/3"
      ],
      "execution_count": 10,
      "outputs": [
        {
          "output_type": "execute_result",
          "data": {
            "text/plain": [
              "5.666666666666667"
            ]
          },
          "metadata": {
            "tags": []
          },
          "execution_count": 10
        }
      ]
    },
    {
      "metadata": {
        "id": "0NjUYCpN8UaS",
        "colab_type": "code",
        "colab": {
          "base_uri": "https://localhost:8080/",
          "height": 34
        },
        "outputId": "a1970fa4-102f-4bca-83bf-1d8b0b49bf17"
      },
      "cell_type": "code",
      "source": [
        "17//3"
      ],
      "execution_count": 11,
      "outputs": [
        {
          "output_type": "execute_result",
          "data": {
            "text/plain": [
              "5"
            ]
          },
          "metadata": {
            "tags": []
          },
          "execution_count": 11
        }
      ]
    },
    {
      "metadata": {
        "id": "jyiEROlB8Zpi",
        "colab_type": "code",
        "colab": {
          "base_uri": "https://localhost:8080/",
          "height": 34
        },
        "outputId": "ef472761-d594-4ee1-8cce-71fad64781f9"
      },
      "cell_type": "code",
      "source": [
        "1457986//113"
      ],
      "execution_count": 14,
      "outputs": [
        {
          "output_type": "execute_result",
          "data": {
            "text/plain": [
              "12902"
            ]
          },
          "metadata": {
            "tags": []
          },
          "execution_count": 14
        }
      ]
    },
    {
      "metadata": {
        "id": "faBja1x385kK",
        "colab_type": "code",
        "colab": {
          "base_uri": "https://localhost:8080/",
          "height": 34
        },
        "outputId": "c4d1c3b0-3826-4a6e-d938-4a009266a203"
      },
      "cell_type": "code",
      "source": [
        "1457986%113"
      ],
      "execution_count": 15,
      "outputs": [
        {
          "output_type": "execute_result",
          "data": {
            "text/plain": [
              "60"
            ]
          },
          "metadata": {
            "tags": []
          },
          "execution_count": 15
        }
      ]
    },
    {
      "metadata": {
        "id": "j1vxafxN-YlL",
        "colab_type": "code",
        "colab": {
          "base_uri": "https://localhost:8080/",
          "height": 51
        },
        "outputId": "504a51b5-66f0-4e4b-cfe4-10b42c4f5321"
      },
      "cell_type": "code",
      "source": [
        "#!/usr/bin/env python\n",
        "#coding=utf-8\n",
        "\n",
        "seconds = eval(input(\"Enter an integer for seconds: \"))\n",
        "\n",
        "minutes = seconds // 60     # Find minutes in seconds\n",
        "remainingSeconds = seconds % 60   # Seconds remaining\n",
        "print(seconds, \"seconds is\", minutes, \"minutes and\", remainingSeconds, \"seconds\")"
      ],
      "execution_count": 19,
      "outputs": [
        {
          "output_type": "stream",
          "text": [
            "Enter an integer for seconds: 500\n",
            "500 seconds is 8 minutes and 20 seconds\n"
          ],
          "name": "stdout"
        }
      ]
    },
    {
      "metadata": {
        "id": "w_TXXfJRBjXL",
        "colab_type": "code",
        "colab": {
          "base_uri": "https://localhost:8080/",
          "height": 34
        },
        "outputId": "4dc81df8-2e8f-4db1-cf3c-431c2a31b792"
      },
      "cell_type": "code",
      "source": [
        "import time\n",
        "date = time.localtime()\t\t#取得目前的日期時間\n",
        "year = date[0]\n",
        "month = date[1]\n",
        "day = date[2]\n",
        "day_month = [31, 28, 31, 30, 31, 30, 31, 31, 30, 31, 30, 31]\n",
        "if year%400==0 or (year%4==0 and year%100!=0):\t#判斷是否為閏年\n",
        "    day_month[1] = 29\n",
        "if month==1:\n",
        "    print(day)\n",
        "else:\n",
        "    print(sum(day_month[:month-1])+day)"
      ],
      "execution_count": 20,
      "outputs": [
        {
          "output_type": "stream",
          "text": [
            "73\n"
          ],
          "name": "stdout"
        }
      ]
    },
    {
      "metadata": {
        "id": "sNelw_tnD0hM",
        "colab_type": "code",
        "colab": {
          "base_uri": "https://localhost:8080/",
          "height": 119
        },
        "outputId": "137cab8a-15e0-49a8-a0cd-42e7ba53b8d1"
      },
      "cell_type": "code",
      "source": [
        "#!/usr/bin/python\n",
        "# -*- coding: UTF-8 -*-\n",
        "print(\"\")\n",
        "print(\"西元年代對應到的十二生肖\")\n",
        "print(\"\")\n",
        "year = eval(input(\"請輸入你出生的年代: \"))\n",
        "print(\"\")\n",
        "zodiacYear = year % 12 \n",
        "if zodiacYear == 0:\n",
        "    print(\"monkey===猴子哩\")\n",
        "elif zodiacYear == 1:\n",
        "    print(\"rooster雞\")\n",
        "elif zodiacYear == 2:\n",
        "    print(\"dog狗狗\")\n",
        "elif zodiacYear == 3:\n",
        "    print(\"pig豬豬\")\n",
        "elif zodiacYear == 4: \n",
        "    print(\"rat鼠\")\n",
        "elif zodiacYear == 5: \n",
        "    print(\"ox牛\")\n",
        "elif zodiacYear == 6:\n",
        "    print(\"tiger虎虎生威\")\n",
        "elif zodiacYear == 7:\n",
        "    print(\"rabbit兔子\")\n",
        "elif zodiacYear == 8:\n",
        "    print(\"dragon偉大的龍\")\n",
        "elif zodiacYear == 9:\n",
        "    print(\"snake蛇\")\n",
        "elif zodiacYear == 10:\n",
        "    print(\"horse馬\")\n",
        "else: \n",
        "    print(\"sheep羊\")"
      ],
      "execution_count": 24,
      "outputs": [
        {
          "output_type": "stream",
          "text": [
            "\n",
            "西元年代對應到的十二生肖\n",
            "\n",
            "請輸入你出生的年代: 1253\n",
            "\n",
            "ox牛\n"
          ],
          "name": "stdout"
        }
      ]
    }
  ]
}